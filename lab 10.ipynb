{
  "nbformat": 4,
  "nbformat_minor": 0,
  "metadata": {
    "colab": {
      "provenance": [],
      "authorship_tag": "ABX9TyPEoQsdzx2PL9bFMMkb8Tdn",
      "include_colab_link": true
    },
    "kernelspec": {
      "name": "python3",
      "display_name": "Python 3"
    },
    "language_info": {
      "name": "python"
    }
  },
  "cells": [
    {
      "cell_type": "markdown",
      "metadata": {
        "id": "view-in-github",
        "colab_type": "text"
      },
      "source": [
        "<a href=\"https://colab.research.google.com/github/Ahsan-1114/LAB-AI/blob/main/lab%2010.ipynb\" target=\"_parent\"><img src=\"https://colab.research.google.com/assets/colab-badge.svg\" alt=\"Open In Colab\"/></a>"
      ]
    },
    {
      "cell_type": "code",
      "execution_count": 2,
      "metadata": {
        "colab": {
          "base_uri": "https://localhost:8080/"
        },
        "id": "5Yl64WyVaRci",
        "outputId": "57eb52f2-6e98-4899-c8ce-42f4ddd27cb5"
      },
      "outputs": [
        {
          "output_type": "stream",
          "name": "stdout",
          "text": [
            "Number of generations: 20\n",
            "Best individual: [1, 1, 1, 1, 1, 1, 1, 1]\n",
            "Fitness: 8\n"
          ]
        }
      ],
      "source": [
        "import random\n",
        "import math\n",
        "\n",
        "class GA:\n",
        "    def __init__(self, individualSize, populationSize):\n",
        "        self.population = dict()\n",
        "        self.individualSize = individualSize\n",
        "        self.populationSize = populationSize\n",
        "        self.totalFitness = 0\n",
        "        i = 0\n",
        "        while i < populationSize:\n",
        "            listOfBits = [0] * individualSize\n",
        "            listOfLocations = list(range(0, individualSize))\n",
        "            numberOfOnes = random.randint(0, individualSize - 1)\n",
        "            onesLocations = random.sample(listOfLocations, numberOfOnes)\n",
        "            for j in onesLocations:\n",
        "                listOfBits[j] = 1\n",
        "            self.population[i] = [listOfBits, numberOfOnes]\n",
        "            self.totalFitness = self.totalFitness + numberOfOnes\n",
        "            i = i + 1\n",
        "    \n",
        "    def updatePopulationFitness(self):\n",
        "        self.totalFitness = 0\n",
        "        for individual in self.population:\n",
        "            individualFitness = sum(self.population[individual][0])\n",
        "            self.population[individual][1] = individualFitness\n",
        "            self.totalFitness = self.totalFitness + individualFitness\n",
        "\n",
        "    def selectParents(self):\n",
        "        rouletteWheel = []\n",
        "        wheelSize = self.populationSize * 5\n",
        "        h_n = []\n",
        "        for individual in self.population:\n",
        "            h_n.append(self.population[individual][1])\n",
        "        j = 0\n",
        "        for individual in self.population:\n",
        "            individualLength = round(wheelSize * (h_n[j] / sum(h_n)))\n",
        "            j = j + 1\n",
        "            if individualLength > 0:\n",
        "                i = 0\n",
        "                while i < individualLength:\n",
        "                    rouletteWheel.append(individual)\n",
        "                    i = i + 1\n",
        "        random.shuffle(rouletteWheel)\n",
        "        parentIndices = []\n",
        "        i = 0\n",
        "        while i < self.populationSize:\n",
        "            parentIndices.append(rouletteWheel[random.randint(0, len(rouletteWheel) - 1)])\n",
        "            i = i + 1\n",
        "        newGeneration = dict()\n",
        "        i = 0\n",
        "        while i < self.populationSize:\n",
        "            newGeneration[i] = self.population[parentIndices[i]].copy()\n",
        "            i = i + 1\n",
        "        del self.population\n",
        "        self.population = newGeneration.copy()\n",
        "        self.updatePopulationFitness()\n",
        "\n",
        "    def generateChildren(self, crossoverProbability):\n",
        "        numberOfPairs = round(crossoverProbability * self.populationSize / 2)\n",
        "        individualIndices = list(range(0, self.populationSize))\n",
        "        random.shuffle(individualIndices)\n",
        "        i = 0\n",
        "        j = 0\n",
        "        while i < numberOfPairs:\n",
        "            crossoverPoint = random.randint(0, self.individualSize - 1)\n",
        "            child1 = self.population[j][0][0:crossoverPoint] + self.population[j + 1][0][crossoverPoint:]\n",
        "            child2 = self.population[j + 1][0][0:crossoverPoint] + self.population[j][0][crossoverPoint:]\n",
        "            self.population[j] = [child1,sum(child1)]\n",
        "            self.population[j+1] = [child2,sum(child2)]\n",
        "            i=i+1\n",
        "            j=j+2\n",
        "        self.updatePopulationFitness()\n",
        "    def mutateChildren(self, mutationProbability):\n",
        "        numberOfBits = round(mutationProbability * self.populationSize * self.individualSize)\n",
        "        totalIndices = list(range(0, self.populationSize * self.individualSize))\n",
        "        random.shuffle(totalIndices)\n",
        "        swapLocations = random.sample(totalIndices, numberOfBits)\n",
        "        for loc in swapLocations:\n",
        "            individualIndex = math.floor(loc / self.individualSize)\n",
        "            bitIndex = math.floor(loc % self.individualSize)\n",
        "            if self.population[individualIndex][0][bitIndex] == 0:\n",
        "                self.population[individualIndex][0][bitIndex] = 1\n",
        "            else:\n",
        "                self.population[individualIndex][0][bitIndex] = 0\n",
        "        self.updatePopulationFitness()\n",
        "\n",
        "individualSize, populationSize = 8, 10\n",
        "i = 0\n",
        "instance = GA(individualSize, populationSize)\n",
        "while True:\n",
        "    instance.selectParents()\n",
        "    instance.generateChildren(0.8)\n",
        "    instance.mutateChildren(0.1)\n",
        "    bestIndividual = max(instance.population.values(), key=lambda x: x[1])\n",
        "    if bestIndividual[1] == individualSize:\n",
        "        break\n",
        "    i = i + 1\n",
        "print(\"Number of generations:\", i)\n",
        "print(\"Best individual:\", bestIndividual[0])\n",
        "print(\"Fitness:\", bestIndividual[1])"
      ]
    }
  ]
}