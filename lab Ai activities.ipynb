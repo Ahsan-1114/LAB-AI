{
  "nbformat": 4,
  "nbformat_minor": 0,
  "metadata": {
    "colab": {
      "provenance": [],
      "authorship_tag": "ABX9TyPkECrcLPyiLU7IrFI5gCx1",
      "include_colab_link": true
    },
    "kernelspec": {
      "name": "python3",
      "display_name": "Python 3"
    },
    "language_info": {
      "name": "python"
    }
  },
  "cells": [
    {
      "cell_type": "markdown",
      "metadata": {
        "id": "view-in-github",
        "colab_type": "text"
      },
      "source": [
        "<a href=\"https://colab.research.google.com/github/Ahsan-1114/LAB-AI/blob/main/lab%20Ai%20activities.ipynb\" target=\"_parent\"><img src=\"https://colab.research.google.com/assets/colab-badge.svg\" alt=\"Open In Colab\"/></a>"
      ]
    },
    {
      "cell_type": "code",
      "execution_count": 1,
      "metadata": {
        "colab": {
          "base_uri": "https://localhost:8080/"
        },
        "id": "GjmGszVbUPXK",
        "outputId": "c248f495-b788-45bd-8b57-f4e4ab00a178"
      },
      "outputs": [
        {
          "output_type": "stream",
          "name": "stdout",
          "text": [
            "enter objects of first list..\n",
            "enter a value:1\n",
            "enter a value:2\n",
            "enter a value:3\n",
            "enter a value:4\n",
            "enter a value:5\n",
            "enter objects of second list..\n",
            "enter a value:6\n",
            "enter a value:7\n",
            "enter a value:8\n",
            "enter a value:9\n",
            "enter a value:10\n",
            "[1, 2, 3, 4, 5, 6, 7, 8, 9, 10]\n",
            "True\n",
            "[[1, 4, 7], [2, 5, 8], [3, 6, 9]]\n",
            "23353988\n",
            "0\n",
            "1\n",
            "2\n",
            "4\n",
            "5\n",
            "{0, 1, 2, 7, 8, 9}\n",
            "enter first nameali \n",
            "enter last nameahmed\n",
            "name not found\n"
          ]
        }
      ],
      "source": [
        "#activity 1\n",
        "mylist1=[]\n",
        "print(\"enter objects of first list..\")\n",
        "for i in range(5):\n",
        "    val=input(\"enter a value:\")\n",
        "    n=int(val)\n",
        "    mylist1.append(n)\n",
        "mylist2=[]\n",
        "print(\"enter objects of second list..\")\n",
        "for i in range(5):\n",
        "    val=input(\"enter a value:\")\n",
        "    n=int(val)\n",
        "    mylist2.append(n)\n",
        "list3=mylist1+mylist2;\n",
        "print(list3)\n",
        "\n",
        "#activity 2\n",
        "def isPalindrome(word):\n",
        "    temp=word[::-1]\n",
        "    if temp.capitalize()==word.capitalize():\n",
        "         return True\n",
        "    else:\n",
        "        return False\n",
        "\n",
        "print(isPalindrome(\"deed\"))\n",
        "\n",
        "#ctivity 3\n",
        "a=[[1,0,0],[0,1,0],[0,0,1]]\n",
        "b=[[1,2,3],[4,5,6],[7,8,9]]\n",
        "c=([]);\n",
        "for indrow in range(3):\n",
        "    c.append([])\n",
        "    for indcol in range(3):\n",
        "        c[indrow].append(0)\n",
        "        for indaux in range(3):\n",
        "            c[indrow][indcol]+=a[indrow][indaux] * b[indcol][indrow]\n",
        "\n",
        "print(c)\n",
        "#activity 4\n",
        "def perimeter(listing):\n",
        "  leng=len(listing)\n",
        "  perimeter=0;\n",
        "  for i in range(0,leng-1):\n",
        "    dist=(((listing [i][0]-listing[i+1][0])**2)+((listing [i][1]-listing[i+1][1])**2))**5\n",
        "    perimeter=perimeter+dist\n",
        "  perimeter=perimeter + (((listing [0][0]-listing[leng-1][0])**2)+((listing [0][1]-listing[leng-1][1])**2))**5 \n",
        "  return perimeter\n",
        "L=[(1,3),(2,7),(3,9),(-1,8)]  \n",
        "print(perimeter(L))\n",
        "\n",
        "#activity 5\n",
        "def symmDiff(a,b):\n",
        "    e=set()    #empty set                  \n",
        "    for i in a:\n",
        "        print(i);#for loop used to acess in a                      \n",
        "        if i not in b:#for loop used to acess in b\n",
        "            e.add(i)\n",
        "    for i in b:                     \n",
        "        if i not in a:\n",
        "            e.add(i)\n",
        "    return e        \n",
        "set1={0,1,2,4,5}\n",
        "set2={4,5,7,8,9}\n",
        "print(symmDiff(set1,set2))\n",
        "\n",
        "#activity 6\n",
        "sample={(\"sohaib\",\"ali\"):\"0246585468445\",(\"aib\",\"li\"):\"02465854645\",\n",
        "        (\"sib\",\"ai\"):\"0246585468445\"}\n",
        "firstName =input(\"enter first name\")        \n",
        "lastName =input(\"enter last name\")\n",
        "searchTuple=(firstName,lastName)\n",
        "if searchTuple in sample:\n",
        "     print(sample[searchTuple])\n",
        "else:\n",
        "    print(\"name not found\")    \n",
        "\n",
        "\n",
        "\n",
        "\n"
      ]
    }
  ]
}